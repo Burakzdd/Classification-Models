{
  "nbformat": 4,
  "nbformat_minor": 0,
  "metadata": {
    "colab": {
      "name": "KNN.ipynb",
      "provenance": []
    },
    "kernelspec": {
      "name": "python3",
      "display_name": "Python 3"
    },
    "language_info": {
      "name": "python"
    },
    "accelerator": "GPU"
  },
  "cells": [
    {
      "cell_type": "code",
      "metadata": {
        "id": "nB4MH1tXhmGf"
      },
      "source": [
        "#kütüphaneler import edilir\n",
        "import numpy as np\n",
        "import pandas as pd \n",
        "from sklearn.model_selection import train_test_split, GridSearchCV,cross_val_score\n",
        "from sklearn.metrics import mean_squared_error, r2_score\n",
        "import matplotlib.pyplot as plt\n",
        "from sklearn.preprocessing import scale \n",
        "from sklearn import model_selection\n",
        "from sklearn.neighbors import KNeighborsRegressor\n",
        "\n",
        "from warnings import filterwarnings\n",
        "filterwarnings('ignore')"
      ],
      "execution_count": 1,
      "outputs": []
    },
    {
      "cell_type": "code",
      "metadata": {
        "id": "8d_4264HhutO"
      },
      "source": [
        "#dosyadan veriler okunarak model oluşturulur\n",
        "hit = pd.read_csv(\"/content/Hitters.csv\")\n",
        "df = hit.copy()\n",
        "df = df.dropna()\n",
        "dms = pd.get_dummies(df[['League', 'Division', 'NewLeague']])\n",
        "y = df[\"Salary\"]\n",
        "X_ = df.drop(['Salary', 'League', 'Division', 'NewLeague'], axis=1).astype('float64')\n",
        "X = pd.concat([X_, dms[['League_N', 'Division_W', 'NewLeague_N']]], axis=1)\n",
        "X_train, X_test, y_train, y_test = train_test_split(X, y, \n",
        "                                                    test_size=0.25, \n",
        "                                                    random_state=42)"
      ],
      "execution_count": 2,
      "outputs": []
    },
    {
      "cell_type": "code",
      "metadata": {
        "id": "qLhqsEuZh393"
      },
      "source": [
        "# model knn algoritmasına göre fit edilir.\n",
        "knn_model = KNeighborsRegressor().fit(X_train, y_train)"
      ],
      "execution_count": 3,
      "outputs": []
    },
    {
      "cell_type": "code",
      "metadata": {
        "colab": {
          "base_uri": "https://localhost:8080/"
        },
        "id": "fsQkobaRiqu8",
        "outputId": "146a0079-b370-4871-91d1-a105f357a2e2"
      },
      "source": [
        "knn_model"
      ],
      "execution_count": 4,
      "outputs": [
        {
          "output_type": "execute_result",
          "data": {
            "text/plain": [
              "KNeighborsRegressor(algorithm='auto', leaf_size=30, metric='minkowski',\n",
              "                    metric_params=None, n_jobs=None, n_neighbors=5, p=2,\n",
              "                    weights='uniform')"
            ]
          },
          "metadata": {},
          "execution_count": 4
        }
      ]
    },
    {
      "cell_type": "code",
      "metadata": {
        "colab": {
          "base_uri": "https://localhost:8080/"
        },
        "id": "bVJkH6zvislE",
        "outputId": "d46cc6f6-6a36-41e8-fb3a-f52299defb62"
      },
      "source": [
        "#modelin komşuluk sayısına bakalım\n",
        "knn_model.n_neighbors"
      ],
      "execution_count": 5,
      "outputs": [
        {
          "output_type": "execute_result",
          "data": {
            "text/plain": [
              "5"
            ]
          },
          "metadata": {},
          "execution_count": 5
        }
      ]
    },
    {
      "cell_type": "code",
      "metadata": {
        "colab": {
          "base_uri": "https://localhost:8080/"
        },
        "id": "86w1g0d8i0BM",
        "outputId": "35169351-bbac-46ac-aec2-d1c47c89f466"
      },
      "source": [
        "#test veri setine göre modelin tahminleri\n",
        "knn_model.predict(X_test)"
      ],
      "execution_count": 6,
      "outputs": [
        {
          "output_type": "execute_result",
          "data": {
            "text/plain": [
              "array([ 510.3334,  808.3334,  772.5   ,  125.5   , 1005.    ,  325.5   ,\n",
              "        216.5   ,  101.5   ,  982.    ,  886.6666,  590.    ,  901.6666,\n",
              "        831.6666,  157.5   ,  393.    , 1005.    ,  735.5   ,   97.    ,\n",
              "        884.4   ,  302.    ,  450.    ,  817.6666,  832.6666,  392.3334,\n",
              "        528.    ,   81.6   ,  735.    ,  470.    ,  722.5   ,  101.    ,\n",
              "         90.5   ,   74.6   ,  748.3334,  217.    ,  280.5334, 1044.5   ,\n",
              "        955.    ,  232.    ,   78.6   ,  529.    ,   77.6   ,  106.5   ,\n",
              "        516.6666,  593.6666, 1005.    ,  649.1666,  715.    ,  101.5   ,\n",
              "        134.5   ,  810.    ,  743.    ,  521.3334,  664.3334,  195.    ,\n",
              "        102.4   ,  728.5   ,  488.    ,  962.5   ,  230.8334, 1040.    ,\n",
              "        885.    ,  542.    ,  720.4   ,  571.    ,  735.    ,   81.6   ])"
            ]
          },
          "metadata": {},
          "execution_count": 6
        }
      ]
    },
    {
      "cell_type": "code",
      "metadata": {
        "id": "L2dKrUVSjB0r"
      },
      "source": [
        "y_tahmin = knn_model.predict(X_test)"
      ],
      "execution_count": 7,
      "outputs": []
    },
    {
      "cell_type": "code",
      "metadata": {
        "colab": {
          "base_uri": "https://localhost:8080/"
        },
        "id": "H07Utja8jHTV",
        "outputId": "dcc59224-0511-46e1-9c56-16536df230ad"
      },
      "source": [
        "#yapılan tahmin değerlerine göre hata ortalamasına bakalım\n",
        "np.sqrt(mean_squared_error(y_test, y_tahmin))"
      ],
      "execution_count": 8,
      "outputs": [
        {
          "output_type": "execute_result",
          "data": {
            "text/plain": [
              "426.6570764525201"
            ]
          },
          "metadata": {},
          "execution_count": 8
        }
      ]
    },
    {
      "cell_type": "code",
      "metadata": {
        "colab": {
          "base_uri": "https://localhost:8080/"
        },
        "id": "x7XGip93jMcD",
        "outputId": "12895d05-2755-47ae-f988-6a82e8fb573c"
      },
      "source": [
        "#farklı k değerleri için karelerinin ortalama hatasıne bakılır\n",
        "RMSE = [] \n",
        "\n",
        "for k in range(10):\n",
        "    k = k+1\n",
        "    knn_model = KNeighborsRegressor(n_neighbors = k).fit(X_train, y_train)\n",
        "    y_pred = knn_model.predict(X_train) \n",
        "    rmse = np.sqrt(mean_squared_error(y_train,y_pred)) \n",
        "    RMSE.append(rmse) \n",
        "    print(\"k =\" , k , \"için RMSE değeri: \", rmse)"
      ],
      "execution_count": 11,
      "outputs": [
        {
          "output_type": "stream",
          "text": [
            "k = 1 için RMSE değeri:  0.0\n",
            "k = 2 için RMSE değeri:  179.52761335480352\n",
            "k = 3 için RMSE değeri:  205.20157172291863\n",
            "k = 4 için RMSE değeri:  220.5139794876305\n",
            "k = 5 için RMSE değeri:  239.64671325413764\n",
            "k = 6 için RMSE değeri:  243.5904190007242\n",
            "k = 7 için RMSE değeri:  258.1478781634636\n",
            "k = 8 için RMSE değeri:  266.05374203349805\n",
            "k = 9 için RMSE değeri:  269.73782093553376\n",
            "k = 10 için RMSE değeri:  271.2798300436963\n"
          ],
          "name": "stdout"
        }
      ]
    },
    {
      "cell_type": "code",
      "metadata": {
        "id": "hpDzXJQIjpzj"
      },
      "source": [
        "from sklearn.model_selection import GridSearchCV"
      ],
      "execution_count": 12,
      "outputs": []
    },
    {
      "cell_type": "code",
      "metadata": {
        "id": "Umezq9bjjzm9"
      },
      "source": [
        "#knn parametleri belilenir\n",
        "knn_params = {\"n_neighbors\": np.arange(1,30,1)}"
      ],
      "execution_count": 13,
      "outputs": []
    },
    {
      "cell_type": "code",
      "metadata": {
        "id": "Ld9INebgk-N1"
      },
      "source": [
        "#knn ye görte model yeniden fit edilir\n",
        "knn = KNeighborsRegressor()"
      ],
      "execution_count": 14,
      "outputs": []
    },
    {
      "cell_type": "code",
      "metadata": {
        "id": "74Z2ZNqXlId8"
      },
      "source": [
        "knn_cv_model = GridSearchCV(knn, knn_params, cv=10)"
      ],
      "execution_count": 15,
      "outputs": []
    },
    {
      "cell_type": "code",
      "metadata": {
        "colab": {
          "base_uri": "https://localhost:8080/"
        },
        "id": "elWOdUdLlU4c",
        "outputId": "19918518-818d-49af-8f20-61add2678299"
      },
      "source": [
        "knn_cv_model.fit(X_train, y_train)"
      ],
      "execution_count": 16,
      "outputs": [
        {
          "output_type": "execute_result",
          "data": {
            "text/plain": [
              "GridSearchCV(cv=10, error_score=nan,\n",
              "             estimator=KNeighborsRegressor(algorithm='auto', leaf_size=30,\n",
              "                                           metric='minkowski',\n",
              "                                           metric_params=None, n_jobs=None,\n",
              "                                           n_neighbors=5, p=2,\n",
              "                                           weights='uniform'),\n",
              "             iid='deprecated', n_jobs=None,\n",
              "             param_grid={'n_neighbors': array([ 1,  2,  3,  4,  5,  6,  7,  8,  9, 10, 11, 12, 13, 14, 15, 16, 17,\n",
              "       18, 19, 20, 21, 22, 23, 24, 25, 26, 27, 28, 29])},\n",
              "             pre_dispatch='2*n_jobs', refit=True, return_train_score=False,\n",
              "             scoring=None, verbose=0)"
            ]
          },
          "metadata": {},
          "execution_count": 16
        }
      ]
    },
    {
      "cell_type": "code",
      "metadata": {
        "colab": {
          "base_uri": "https://localhost:8080/"
        },
        "id": "1iWyiukAlaN0",
        "outputId": "7f1efbe3-32bb-439b-da04-04db9983655d"
      },
      "source": [
        "knn_cv_model.best_params_[\"n_neighbors\"]"
      ],
      "execution_count": 17,
      "outputs": [
        {
          "output_type": "execute_result",
          "data": {
            "text/plain": [
              "8"
            ]
          },
          "metadata": {},
          "execution_count": 17
        }
      ]
    },
    {
      "cell_type": "code",
      "metadata": {
        "colab": {
          "base_uri": "https://localhost:8080/"
        },
        "id": "xnf3RdQBlj31",
        "outputId": "d55ec22b-081d-4230-d11c-c75be38746e4"
      },
      "source": [
        "# oluşturulan iki modele bakılır. Gözelem yapıldığında ikinci mdoel için farklı k değerlerine göre sonuçların yakın değerler olduğu görülmektedir\n",
        "RMSE = [] \n",
        "RMSE_CV = []\n",
        "for k in range(10):\n",
        "    k = k+1\n",
        "    knn_model = KNeighborsRegressor(n_neighbors = k).fit(X_train, y_train)\n",
        "    y_pred = knn_model.predict(X_train) \n",
        "    rmse = np.sqrt(mean_squared_error(y_train,y_pred)) \n",
        "    rmse_cv = np.sqrt(-1*cross_val_score(knn_model, X_train, y_train, cv=10, \n",
        "                                         scoring = \"neg_mean_squared_error\").mean())\n",
        "    RMSE.append(rmse) \n",
        "    RMSE_CV.append(rmse_cv)\n",
        "    print(\"k =\" , k , \"için RMSE değeri: \", rmse, \"RMSE_CV değeri: \", rmse_cv )"
      ],
      "execution_count": 19,
      "outputs": [
        {
          "output_type": "stream",
          "text": [
            "k = 1 için RMSE değeri:  0.0 RMSE_CV değeri:  325.39475147063825\n",
            "k = 2 için RMSE değeri:  179.52761335480352 RMSE_CV değeri:  293.24000183333817\n",
            "k = 3 için RMSE değeri:  205.20157172291863 RMSE_CV değeri:  283.7486667487823\n",
            "k = 4 için RMSE değeri:  220.5139794876305 RMSE_CV değeri:  286.3240222024089\n",
            "k = 5 için RMSE değeri:  239.64671325413764 RMSE_CV değeri:  290.0705466132226\n",
            "k = 6 için RMSE değeri:  243.5904190007242 RMSE_CV değeri:  298.1263115575851\n",
            "k = 7 için RMSE değeri:  258.1478781634636 RMSE_CV değeri:  294.77070479194987\n",
            "k = 8 için RMSE değeri:  266.05374203349805 RMSE_CV değeri:  291.98672028891235\n",
            "k = 9 için RMSE değeri:  269.73782093553376 RMSE_CV değeri:  295.7162739573105\n",
            "k = 10 için RMSE değeri:  271.2798300436963 RMSE_CV değeri:  301.31047022701154\n"
          ],
          "name": "stdout"
        }
      ]
    },
    {
      "cell_type": "code",
      "metadata": {
        "id": "Sc9GaYuWlqN0"
      },
      "source": [
        "knn_tuned = KNeighborsRegressor(n_neighbors = knn_cv_model.best_params_[\"n_neighbors\"])"
      ],
      "execution_count": 20,
      "outputs": []
    },
    {
      "cell_type": "code",
      "metadata": {
        "colab": {
          "base_uri": "https://localhost:8080/"
        },
        "id": "mFNuUEWwl_ef",
        "outputId": "06e13209-4d26-41c4-d60a-a4e420c3bd42"
      },
      "source": [
        "knn_tuned.fit(X_train, y_train)"
      ],
      "execution_count": 21,
      "outputs": [
        {
          "output_type": "execute_result",
          "data": {
            "text/plain": [
              "KNeighborsRegressor(algorithm='auto', leaf_size=30, metric='minkowski',\n",
              "                    metric_params=None, n_jobs=None, n_neighbors=8, p=2,\n",
              "                    weights='uniform')"
            ]
          },
          "metadata": {},
          "execution_count": 21
        }
      ]
    },
    {
      "cell_type": "code",
      "metadata": {
        "colab": {
          "base_uri": "https://localhost:8080/"
        },
        "id": "DlsnNbkomCqk",
        "outputId": "cc3eec28-07d3-4e2e-9325-79c7a650ab28"
      },
      "source": [
        "np.sqrt(mean_squared_error(y_test, knn_tuned.predict(X_test)))"
      ],
      "execution_count": 22,
      "outputs": [
        {
          "output_type": "execute_result",
          "data": {
            "text/plain": [
              "413.7094731463598"
            ]
          },
          "metadata": {},
          "execution_count": 22
        }
      ]
    }
  ]
}