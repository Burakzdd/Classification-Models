{
  "nbformat": 4,
  "nbformat_minor": 0,
  "metadata": {
    "colab": {
      "name": "SVR.ipynb",
      "provenance": []
    },
    "kernelspec": {
      "name": "python3",
      "display_name": "Python 3"
    },
    "language_info": {
      "name": "python"
    },
    "accelerator": "GPU"
  },
  "cells": [
    {
      "cell_type": "markdown",
      "metadata": {
        "id": "akUPiWkjoS4T"
      },
      "source": [
        "# Support Vector Regression /  Destek Vektör Regresyonu"
      ]
    },
    {
      "cell_type": "code",
      "metadata": {
        "id": "ZnNMbyfGoL6I"
      },
      "source": [
        "#küpütphaneler aktifleştirilir\n",
        "import numpy as np\n",
        "import pandas as pd \n",
        "from sklearn.model_selection import train_test_split, GridSearchCV,cross_val_score\n",
        "from sklearn.metrics import mean_squared_error, r2_score\n",
        "import matplotlib.pyplot as plt\n",
        "from sklearn.preprocessing import scale \n",
        "from sklearn import model_selection\n",
        "\n",
        "from warnings import filterwarnings\n",
        "filterwarnings('ignore')"
      ],
      "execution_count": 1,
      "outputs": []
    },
    {
      "cell_type": "code",
      "metadata": {
        "id": "J5zVwb49pbft"
      },
      "source": [
        "#veriler okunur ve test ve eğitim için ayrılır\n",
        "hit = pd.read_csv(\"Hitters.csv\")\n",
        "df = hit.copy()\n",
        "df = df.dropna()\n",
        "dms = pd.get_dummies(df[['League', 'Division', 'NewLeague']])\n",
        "y = df[\"Salary\"]\n",
        "X_ = df.drop(['Salary', 'League', 'Division', 'NewLeague'], axis=1).astype('float64')\n",
        "X = pd.concat([X_, dms[['League_N', 'Division_W', 'NewLeague_N']]], axis=1)\n",
        "X_train, X_test, y_train, y_test = train_test_split(X, y, \n",
        "                                                    test_size=0.25, \n",
        "                                                    random_state=42)"
      ],
      "execution_count": 3,
      "outputs": []
    },
    {
      "cell_type": "code",
      "metadata": {
        "id": "GDWXyefkpdcd"
      },
      "source": [
        "#veriler data frame formuna çevrilir\n",
        "X_train = pd.DataFrame(X_train[\"Hits\"])\n",
        "X_test = pd.DataFrame(X_test[\"Hits\"])"
      ],
      "execution_count": 4,
      "outputs": []
    },
    {
      "cell_type": "code",
      "metadata": {
        "id": "_KBJgdPlplns"
      },
      "source": [
        "from sklearn.svm import SVR"
      ],
      "execution_count": 5,
      "outputs": []
    },
    {
      "cell_type": "code",
      "metadata": {
        "id": "i7zMY7-Tpqku"
      },
      "source": [
        "#model fit edilir\n",
        "svr_model = SVR(\"linear\").fit(X_train, y_train)"
      ],
      "execution_count": 7,
      "outputs": []
    },
    {
      "cell_type": "code",
      "metadata": {
        "colab": {
          "base_uri": "https://localhost:8080/"
        },
        "id": "tPEjdCZUpx-1",
        "outputId": "f433d909-05a5-42c4-8fff-933796a8fce5"
      },
      "source": [
        "#tehmin değerileri alınır\n",
        "svr_model.predict(X_train)[0:5]"
      ],
      "execution_count": 8,
      "outputs": [
        {
          "output_type": "execute_result",
          "data": {
            "text/plain": [
              "array([403.52804878, 666.91219512, 706.66829268, 194.80853659,\n",
              "       423.40609756])"
            ]
          },
          "metadata": {},
          "execution_count": 8
        }
      ]
    },
    {
      "cell_type": "code",
      "metadata": {
        "colab": {
          "base_uri": "https://localhost:8080/"
        },
        "id": "BFLALbXcp6p9",
        "outputId": "bc8fac47-c171-4e6c-b95f-3cc037b4195d"
      },
      "source": [
        "#svr modelini formulize edilmiş hali yazılır\n",
        "print (\"y = {0} + {1} x\".format(svr_model.intercept_[0], \n",
        "                                svr_model.coef_[0][0])) \n"
      ],
      "execution_count": 9,
      "outputs": [
        {
          "output_type": "stream",
          "text": [
            "y = -48.69756097561513 + 4.969512195122093 x\n"
          ],
          "name": "stdout"
        }
      ]
    },
    {
      "cell_type": "code",
      "metadata": {
        "colab": {
          "base_uri": "https://localhost:8080/"
        },
        "id": "oEz44Fsau76m",
        "outputId": "9b23e25e-42b9-4364-d7b4-495504a96b03"
      },
      "source": [
        "X_train[\"Hits\"][0:1]"
      ],
      "execution_count": 10,
      "outputs": [
        {
          "output_type": "execute_result",
          "data": {
            "text/plain": [
              "183    91.0\n",
              "Name: Hits, dtype: float64"
            ]
          },
          "metadata": {},
          "execution_count": 10
        }
      ]
    },
    {
      "cell_type": "markdown",
      "metadata": {
        "id": "fNiYnXfSybXe"
      },
      "source": [
        "Yukarıdaki çıktıdan ilk eğitim verisinin 91 olduğunu anlıyoruz. Tahmin işleminde de ilk veri için sonucun 403.52 olduğunu bulmuştuk. Az önce bastırdığımız formül ile bu değerleri bir deneyelim!"
      ]
    },
    {
      "cell_type": "code",
      "metadata": {
        "colab": {
          "base_uri": "https://localhost:8080/"
        },
        "id": "E-KM2vGPu9rd",
        "outputId": "0a55ab32-4d5f-406e-d077-08630ea04d42"
      },
      "source": [
        "-48.69756097561513 + 4.969512195122093*91"
      ],
      "execution_count": 11,
      "outputs": [
        {
          "output_type": "execute_result",
          "data": {
            "text/plain": [
              "403.5280487804953"
            ]
          },
          "metadata": {},
          "execution_count": 11
        }
      ]
    },
    {
      "cell_type": "markdown",
      "metadata": {
        "id": "K53MVGOszMWs"
      },
      "source": [
        "Görüldüğü üzere aynı sonuca ulaştık"
      ]
    },
    {
      "cell_type": "code",
      "metadata": {
        "id": "F9oLeoWGu_MG"
      },
      "source": [
        "y_pred = svr_model.predict(X_train)"
      ],
      "execution_count": 13,
      "outputs": []
    },
    {
      "cell_type": "code",
      "metadata": {
        "colab": {
          "base_uri": "https://localhost:8080/",
          "height": 282
        },
        "id": "2NL0PIgMvCmN",
        "outputId": "f69a89bc-0c50-4272-c608-fe637a82665e"
      },
      "source": [
        "plt.scatter(X_train, y_train)\n",
        "plt.plot(X_train,y_pred, color = \"r\")"
      ],
      "execution_count": 14,
      "outputs": [
        {
          "output_type": "execute_result",
          "data": {
            "text/plain": [
              "[<matplotlib.lines.Line2D at 0x7f205f071450>]"
            ]
          },
          "metadata": {},
          "execution_count": 14
        },
        {
          "output_type": "display_data",
          "data": {
            "image/png": "[encoded data removed]",
            "text/plain": [
              "<Figure size 432x288 with 1 Axes>"
            ]
          },
          "metadata": {
            "needs_background": "light"
          }
        }
      ]
    },
    {
      "cell_type": "code",
      "metadata": {
        "colab": {
          "base_uri": "https://localhost:8080/"
        },
        "id": "2vtweZzdvEzG",
        "outputId": "bbd2d48c-4010-46ae-a184-3148f23b0659"
      },
      "source": [
        "svr_model.predict([[91]])"
      ],
      "execution_count": 15,
      "outputs": [
        {
          "output_type": "execute_result",
          "data": {
            "text/plain": [
              "array([403.52804878])"
            ]
          },
          "metadata": {},
          "execution_count": 15
        }
      ]
    }
  ]
}